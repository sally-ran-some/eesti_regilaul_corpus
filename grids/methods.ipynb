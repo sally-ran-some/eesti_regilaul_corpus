{
 "cells": [
  {
   "cell_type": "markdown",
   "metadata": {},
   "source": [
    ">I don't use folksongs, folksongs use me\n",
    ">>Velljo Tormis, *regilaul* revitalist composer"
   ]
  },
  {
   "cell_type": "markdown",
   "metadata": {},
   "source": [
    "# Stress in Estonian\n",
    "# Kalevala Meter \n",
    "# Research Questions\n",
    "# Previous Work\n",
    "# Hypotheses"
   ]
  },
  {
   "cell_type": "markdown",
   "metadata": {},
   "source": [
    "\n",
    "# Methods\n",
    "\n",
    "This section is outlined as follows: \n",
    "1. the *regilaul* corpus is described. \n",
    "    1. singers/informants background info\n",
    "    2. physical recording info (collection/collectors)\n",
    "2. Then, the annotation process is described. \n",
    "    1. beat detective: \n",
    "        1.Logic method \n",
    "        2. Nyquist and Audacity \n",
    "        3. (manual check: definition of a beat)\n",
    "    2. midi to textgrid (annotate silences script) \n",
    "    3. txt file of lyrics to phrases with praatio (check: definition of a phrase, verses instead of choruses decision?)\n",
    "    4. forced aligner: word level (check: definition of word)\n",
    "    5. syllable level (coded for stress and quanitity!) with varbomorf manual check: definition of a syllable (use ictus/off-ictus, duh!)\n",
    "    6. segmental level (run from syllable level) (manual check: definition of each segment and the segment's environmental criteria to be included in analysis)\n",
    "3. The measurement process is described \n",
    "    1. temporal aspects: \n",
    "        1. vowel duration\n",
    "        2. consonant duration \n",
    "        3. syllable duration \n",
    "    2. spectral aspects: \n",
    "        1. vowel space\n",
    "        2. spectral tilt\n",
    "\n",
    "\n"
   ]
  },
  {
   "cell_type": "markdown",
   "metadata": {},
   "source": []
  },
  {
   "cell_type": "markdown",
   "metadata": {},
   "source": [
    "\n",
    "1. the *regilaul* corpus is described. \n",
    "    1. singers/informants background info\n",
    "    2. physical recording info (collection/collectors)\n",
    "2. Then, the annotation process is described. \n",
    "    1. beat detective: \n",
    "        1.Logic method \n",
    "        2. Nyquist and Audacity \n",
    "        3. (manual check: definition of a beat)\n",
    " 2. midi to textgrid (annotate silences script) \n",
    "    3. txt file of lyrics to phrases with praatio (check: definition of a phrase, verses instead of choruses decision?)"
   ]
  },
  {
   "cell_type": "code",
   "execution_count": 2,
   "metadata": {},
   "outputs": [
    {
     "ename": "AttributeError",
     "evalue": "'str' object has no attribute 'beats_to_textgird'",
     "output_type": "error",
     "traceback": [
      "\u001b[0;31m---------------------------------------------------------------------------\u001b[0m",
      "\u001b[0;31mAttributeError\u001b[0m                            Traceback (most recent call last)",
      "\u001b[0;32m/var/folders/s2/hj078vmj60j2qr4wwsp2bgvm0000gp/T/ipykernel_68630/354519275.py\u001b[0m in \u001b[0;36m<module>\u001b[0;34m\u001b[0m\n\u001b[1;32m     18\u001b[0m         \u001b[0;32mif\u001b[0m \u001b[0;34m\".wav\"\u001b[0m \u001b[0;32mnot\u001b[0m \u001b[0;32min\u001b[0m \u001b[0mfn\u001b[0m\u001b[0;34m:\u001b[0m\u001b[0;34m\u001b[0m\u001b[0;34m\u001b[0m\u001b[0m\n\u001b[1;32m     19\u001b[0m             \u001b[0;32mcontinue\u001b[0m\u001b[0;34m\u001b[0m\u001b[0;34m\u001b[0m\u001b[0m\n\u001b[0;32m---> 20\u001b[0;31m         \u001b[0mfn\u001b[0m\u001b[0;34m.\u001b[0m\u001b[0mbeats_to_textgird\u001b[0m\u001b[0;34m(\u001b[0m\u001b[0;34m)\u001b[0m\u001b[0;34m\u001b[0m\u001b[0;34m\u001b[0m\u001b[0m\n\u001b[0m\u001b[1;32m     21\u001b[0m         \u001b[0;31m#then, add the phrase tier\u001b[0m\u001b[0;34m\u001b[0m\u001b[0;34m\u001b[0m\u001b[0m\n\u001b[1;32m     22\u001b[0m         \u001b[0;32mif\u001b[0m \u001b[0;34m\".TextGrid\"\u001b[0m \u001b[0;32mnot\u001b[0m \u001b[0;32min\u001b[0m \u001b[0mfn\u001b[0m\u001b[0;34m:\u001b[0m\u001b[0;34m\u001b[0m\u001b[0;34m\u001b[0m\u001b[0m\n",
      "\u001b[0;31mAttributeError\u001b[0m: 'str' object has no attribute 'beats_to_textgird'"
     ]
    }
   ],
   "source": [
    "\n",
    "\n",
    "import os\n",
    "from os.path import join\n",
    "from praatio import textgrid\n",
    "from praatio import praat_scripts\n",
    "from praatio.utilities.constants import (\n",
    "    Interval)\n",
    "\n",
    "praat_exe = \"/Applications/Praat.app/Contents/MacOS/Praat\"\n",
    "root = \"/Users/sarah/Git/eesti_regilaul_corpus/audio\"\n",
    "input_wavs = join(root,\"clicks\")\n",
    "input_tg = join(root, \"ictus_tier\")\n",
    "output_tg = join(root,\"lyric_tier\")\n",
    "\n",
    "SILENCE_LABEL = \"x\"\n",
    "SOUND_LABEL = \"ictus\"\n",
    "\n",
    "for fn in os.listdir(root):\n",
    "        if \".wav\" not in fn:\n",
    "            continue\n",
    "        fn.beats_to_textgird()\n",
    "        #then, add the phrase tier\n",
    "        if \".TextGrid\" not in fn:\n",
    "            continue\n",
    "        tg = textgrid.openTextgrid(fn,True)\n",
    "        ictus_dict = tg.tierDict\n",
    "        myTier = textgrid.IntervalTier(\"phrase\",entryList= ictus_dict[1])\n",
    "        lyric_lines = open(join(root,fn,\".txt\")).readlines()\n",
    "        for interval, line in myTier, lyric_lines:\n",
    "            #TODO first edge case thing\n",
    "            interval.text = lyric_lines \n",
    "        tg.addTier(myTier,[2],\"warning\")\n",
    "        tg.save(fn,'long_textgrid')\n",
    "\n",
    "        #tg.addTier(input_tg,output_tg,\"phrase\")\n",
    "#file format: NAME + \"beat\"\n",
    "def beats_to_textgird(input_wav):\n",
    "\n",
    "        name = os.path.splitext(fn)[0]\n",
    "        #remove \"beat\" so it matches song file\n",
    "        tgFn = name.strip(\"beat\") + \".TextGrid\"\n",
    "        praat_scripts.annotateSilences(\n",
    "         praat_exe, join(input_wavs, fn), join(input_tg, tgFn),100,0,-25,0.1,0.1,SILENCE_LABEL,SOUND_LABEL\n",
    "        )\n",
    "\n",
    "#def addTier(input_tg, output_tg,tier_label):\n",
    "        # tg = textgrid.openTextgrid(join(input_tg, fn),True)\n",
    "        # myTier = textgrid.IntervalTier(tier_label, entryList= [('0', tg.maxTimestamp,\n",
    "        # 'test'),],minT=0,maxT=tg.maxTimestamp)a\n",
    "        # tg.addTier(myTier)\n",
    "        # tg.save(join(output_tg,fn),'long_textgrid', True)\n",
    "#finds the txt file that matches the         \n",
    "def add_lines_intervals(input_tg,input_txt,tier_num):\n",
    "        tg = textgrid.openTextgrid(input_tg,True)\n",
    "        myTier = tg.tierDict[tier_num]\n",
    "        lyrics = open(input_txt,\"r\")\n",
    "        lyricList = lyrics.readlines()\n",
    "        dur = (tg.maxTimestamp/len(lyricList))\n",
    "        start= 0.0\n",
    "        length = start + dur\n",
    "        line = 0\n",
    "        while length <= tg.maxTimestamp:\n",
    "            tmpInterval = Interval(start,length,lyricList[line])\n",
    "            myTier.insertEntry(tmpInterval,'replace','warning')\n",
    "            start = start+dur\n",
    "            length = length +dur \n",
    "            line = line + 1\n",
    "        tg.save(join(input, fn),'long_textgrid',True)\n",
    "\n",
    "\n",
    "\n",
    "\n",
    "\n",
    "\n",
    "#autoSegmentSpeech(praatEXE, inputWavPath, input_tg)\n",
    "#markIctus(praatEXE,inputWavPath,input_tg)\n",
    "#addPhraseTier(input_tg, finalTGPath)\n",
    "#addIntervalsLyrics(finalTGPath)\n",
    "#getLyrics(input_tg)"
   ]
  },
  {
   "cell_type": "markdown",
   "metadata": {},
   "source": [
    "4. forced aligner: word level (check: definition of word)\n",
    "5. syllable level (coded for stress and quanitity!) with varbomorf manual check: definition of a syllable (use ictus/off-ictus, duh!)"
   ]
  },
  {
   "cell_type": "code",
   "execution_count": null,
   "metadata": {},
   "outputs": [],
   "source": [
    "from praatio import textgrid\n",
    "import string\n",
    "import pandas as pd\n",
    "def add_syll_tier(grids,out):\n",
    "    for fn in os.listdir(grids):\n",
    "        sylly_name = (fn.strip(\".TextGrid\") + \"_sillies.csv\")\n",
    "        if \".TextGrid\" not in fn: \n",
    "            continue\n",
    "        tg = textgrid.openTextgrid(join(grids,fn), True)\n",
    "        wordTier = tg.tierDict[\"word\"]\n",
    "        tmpTier = wordTier.new(\"varbo\")\n",
    "\n",
    "        syllies = pd.read_csv(join(grids,sylly_name)).to_dict()\n",
    "        #print(syllies)\n",
    "        punctuation = string.punctuation\n",
    "        for entry in tmpTier.entryList:\n",
    "            if not entry.label:\n",
    "                continue \n",
    "            tmpLabel = str(entry.label)\n",
    "            for p in punctuation:\n",
    "                cleanlabel = tmpLabel.replace(p,'')\n",
    "            if syllies.get(cleanlabel):\n",
    "                newLabel = syllies[cleanlabel]\n",
    "                tmpInterval = Interval(entry.start,entry.end,newLabel)\n",
    "                tmpTier.insertEntry(tmpInterval,'replace','silence')\n",
    "        tg.addTier(tmpTier,3)\n",
    "        tg.save(join(out,fn),'long_textgrid',True,reportingMode='silence')\n",
    "    \n",
    "    \n",
    "\n",
    "\n",
    "\n",
    "grids_in = \"/Users/sarah/Git/eesti_regilaul_corpus/grids/syll/\"\n",
    "#dict_in = \"/Users/sarah/Git/eesti_regilaul_corpus/grids/syll/009_sillies.csv\"\n",
    "grid_out = \"/Users/sarah/Git/eesti_regilaul_corpus/grids/syll/out/\"\n",
    "add_syll_tier(grids_in,grid_out)\n",
    "\n",
    "   "
   ]
  },
  {
   "cell_type": "markdown",
   "metadata": {},
   "source": [
    "# segmental level (run from syllable level) (manual check: definition of each segment and the segment's environmental criteria to be included in analysis)\n",
    "\n",
    "## The measurement process is described:\n",
    "1. temporal aspects: \n",
    "    1. vowel duration\n",
    "    2. consonant duration \n",
    "    3. syllable duration \n",
    "2. spectral aspects: \n",
    "    1. vowel space\n",
    "    2. spectral tilt"
   ]
  },
  {
   "cell_type": "markdown",
   "metadata": {},
   "source": [
    "# Results\n",
    "## Ictus and Off-Ictus (song prominence)\n",
    "### temporal \n",
    "### spectral \n",
    "## Stressed and unstressed syllables (word-level prominence)\n",
    "### temporal \n",
    "### spectral \n",
    "## Conflicts: stressed syllables in off-ictus position\n",
    "### temporal\n",
    "### spectral \n",
    "## Conflicts: unstressed syllables in off-ictus position\n",
    "### temporal\n",
    "### spectral\n",
    "# Discussion \n",
    "# Conclusion \n"
   ]
  }
 ],
 "metadata": {
  "interpreter": {
   "hash": "dd9a263a021b7496b06352cb4600e46858ffaf775c6cfeaeaf5f4e380d7237f2"
  },
  "kernelspec": {
   "display_name": "Python 3.9.7 ('soundmines')",
   "language": "python",
   "name": "python3"
  },
  "language_info": {
   "codemirror_mode": {
    "name": "ipython",
    "version": 3
   },
   "file_extension": ".py",
   "mimetype": "text/x-python",
   "name": "python",
   "nbconvert_exporter": "python",
   "pygments_lexer": "ipython3",
   "version": "3.9.7"
  },
  "orig_nbformat": 4
 },
 "nbformat": 4,
 "nbformat_minor": 2
}
