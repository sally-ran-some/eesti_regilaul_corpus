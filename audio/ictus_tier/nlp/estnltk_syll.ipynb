{
 "cells": [
  {
   "cell_type": "code",
   "execution_count": null,
   "metadata": {},
   "outputs": [],
   "source": []
  },
  {
   "cell_type": "code",
   "execution_count": 46,
   "metadata": {},
   "outputs": [],
   "source": [
    "import nltk\n",
    "import codecs\n",
    "import os\n",
    "from os.path import join \n",
    "from estnltk import Text\n",
    "from estnltk.default_resolver import make_resolver\n",
    "from estnltk.vabamorf.morf import syllabify_words\n",
    "import csv\n",
    "\n",
    "song_files = \"/Users/sarah/Git/eesti_regilaul_corpus/audio/ictus_tier/nlp/lyrics/\"\n",
    "syllout = \"/Users/sarah/Git/eesti_regilaul_corpus/audio/ictus_tier/nlp/syllables/\"\n",
    "\n",
    "resolver = make_resolver(\n",
    "                 disambiguate=False,\n",
    "                 guess=False,\n",
    "                 propername=False,\n",
    "                 phonetic=True,\n",
    "                 compound=True,\n",
    "                 slang_lex=True)\n",
    "tokenizer = nltk.RegexpTokenizer(r\"\\w+\")\n",
    "\n",
    "def songToSyll(song_dir,output):\n",
    "    for filename in os.listdir(song_dir):\n",
    "        name = filename.strip('.txt')\n",
    "        f = codecs.open(join(song_dir, filename),'r',encoding=\"mac_latin2\",errors=\"ignore\")\n",
    "        song_x = f.readlines()\n",
    "        song_syll = {}\n",
    "        for line in song_x:\n",
    "            words = tokenizer.tokenize(line)\n",
    "            for word in words:\n",
    "                tmp = Text(word)\n",
    "                tmp.tag_layer(resolver=resolver)['morph_analysis']\n",
    "                song_syll[word]=(syllabify_words(tmp.words.text,as_dict=True))\n",
    "        # open file for writing, \"w\" is writing\n",
    "        w = csv.writer(open(join(output,name+\"_sillies.csv\"), \"w\"))\n",
    "        # loop over dictionary keys and values\n",
    "        for key, val in song_syll.items():\n",
    "            # write every key and value to file\n",
    "            w.writerow([key, val])\n",
    "songToSyll(song_files,syllout)\n"
   ]
  },
  {
   "cell_type": "code",
   "execution_count": null,
   "metadata": {},
   "outputs": [],
   "source": []
  }
 ],
 "metadata": {
  "interpreter": {
   "hash": "9ebbf1b151a131b3a0a32805ceb104e187635a7a85732bf0d9da09c55a49fa14"
  },
  "kernelspec": {
   "display_name": "Python 3.9.11 ('eesti_nltk')",
   "language": "python",
   "name": "python3"
  },
  "language_info": {
   "codemirror_mode": {
    "name": "ipython",
    "version": 3
   },
   "file_extension": ".py",
   "mimetype": "text/x-python",
   "name": "python",
   "nbconvert_exporter": "python",
   "pygments_lexer": "ipython3",
   "version": "3.9.11"
  },
  "orig_nbformat": 4
 },
 "nbformat": 4,
 "nbformat_minor": 2
}
