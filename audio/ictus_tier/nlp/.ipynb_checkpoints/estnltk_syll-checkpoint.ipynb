{
 "cells": [
  {
   "cell_type": "code",
   "execution_count": null,
   "metadata": {},
   "outputs": [],
   "source": []
  },
  {
   "cell_type": "code",
   "execution_count": null,
   "metadata": {},
   "outputs": [
    {
     "name": "stdout",
     "output_type": "stream",
     "text": [
      "INFO:utils.py:147: Note: NumExpr detected 16 cores but \"NUMEXPR_MAX_THREADS\" not set, so enforcing safe limit of 8.\n",
      "INFO:utils.py:159: NumExpr defaulting to 8 threads.\n"
     ]
    }
   ],
   "source": [
    "import nltk\n",
    "import codecs\n",
    "import os\n",
    "from os.path import join \n",
    "from estnltk import Text\n",
    "from estnltk.default_resolver import DEFAULT_RESOLVER\n",
    "\n",
    "from estnltk.default_resolver import make_resolver\n",
    "from estnltk.vabamorf.morf import syllabify_words\n",
    "import csv\n",
    "\n",
    "song_files = \"/Users/sarah/Git/eesti_regilaul_corpus/audio/ictus_tier/nlp/lyrics/\"\n",
    "syllout = \"/Users/sarah/Git/eesti_regilaul_corpus/audio/ictus_tier/nlp/today/\"\n",
    "\n",
    "resolver = make_resolver(\n",
    "                 disambiguate=False,\n",
    "                 guess=False,\n",
    "                 propername=False,\n",
    "                 phonetic=True,\n",
    "                 compound=True,\n",
    "                 slang_lex=True)\n",
    "tokenizer = nltk.RegexpTokenizer(r\"\\w+\")\n",
    "\n",
    "# def songToSyll(song_dir,output):\n",
    "for filename in os.listdir(song_files):\n",
    "    f = codecs.open(join(song_files, filename),'r',encoding=\"utf-8\",errors=\"surrogateescape\")\n",
    "    song_x = f.readlines()\n",
    "    songDict = {}\n",
    "    for line in song_x:\n",
    "        song = Text(line)\n",
    "        song.tag_layer('words')\n",
    "        syll = syllabify_words(song.words.text,as_dict=False)\n",
    "        songDict.update({line : syll})\n",
    "    print(songDict)\n",
    "    \n",
    "\n",
    "\n",
    "        #song.tag_layer(resolver=resolver)['morph_analysis']\n",
    "        #song.tag_layer('sentences')\n",
    "    #s = csv.writer(open(join(output,name+'_sil.csv'),\"w\"))\n",
    "    # song.morph_analysis\n",
    "        # song_syll = {}\n",
    "        # for line in song_x:\n",
    "        #     wordlist = []\n",
    "        #     for word in line: \n",
    "        #         tmp = Text(word)\n",
    "                \n",
    "        #         tmp.tag_layer(resolver=resolver)['morph_analysis']\n",
    "        #         wordlist.append(syllabify_words(tmp.words.text,as_dict=True))\n",
    "        #     song_syll.update([(line,wordlist)])\n",
    "        # open file for writing, \"w\" is writing\n",
    "       # w = csv.writer(open(join(output,name+\"_sillies.csv\"), \"w\"))\n",
    "        # loop over dictionary keys and values\n",
    "      \n",
    "\n",
    "#songToSyll(song_files,syllout)\n"
   ]
  },
  {
   "cell_type": "code",
   "execution_count": null,
   "metadata": {},
   "outputs": [],
   "source": [
    "\n"
   ]
  },
  {
   "cell_type": "code",
   "execution_count": null,
   "metadata": {},
   "outputs": [],
   "source": []
  },
  {
   "cell_type": "code",
   "execution_count": null,
   "metadata": {},
   "outputs": [],
   "source": []
  }
 ],
 "metadata": {
  "interpreter": {
   "hash": "9ebbf1b151a131b3a0a32805ceb104e187635a7a85732bf0d9da09c55a49fa14"
  },
  "kernelspec": {
   "display_name": "Python 3 (ipykernel)",
   "language": "python",
   "name": "python3"
  },
  "language_info": {
   "codemirror_mode": {
    "name": "ipython",
    "version": 3
   },
   "file_extension": ".py",
   "mimetype": "text/x-python",
   "name": "python",
   "nbconvert_exporter": "python",
   "pygments_lexer": "ipython3",
   "version": "3.9.11"
  }
 },
 "nbformat": 4,
 "nbformat_minor": 2
}
